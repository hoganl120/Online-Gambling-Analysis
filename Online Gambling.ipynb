{
 "cells": [
  {
   "cell_type": "code",
   "execution_count": 23,
   "id": "d735972a-bc82-4ea3-9d4e-00754f77fd6b",
   "metadata": {},
   "outputs": [],
   "source": [
    "from mpl_toolkits.mplot3d import Axes3D\n",
    "from sklearn.preprocessing import StandardScaler\n",
    "import matplotlib.pyplot as plt # plotting\n",
    "import numpy as np # linear algebra\n",
    "import os # accessing directory structure\n",
    "import pandas as pd # data processing, CSV file I/O (e.g. pd.read_csv)"
   ]
  },
  {
   "cell_type": "code",
   "execution_count": 46,
   "id": "b0d7b53d-0da7-464c-9624-f125bf32d4cd",
   "metadata": {},
   "outputs": [],
   "source": [
    "# The original dataset had a minor problem,the dataset was fixed in the Notepad and Excel\n",
    "df = pd.read_csv('G_Site.csv',encoding='cp1252', na_values = [\"?\"])\n",
    "\n"
   ]
  },
  {
   "cell_type": "code",
   "execution_count": 47,
   "id": "7586ef31-e183-4ea0-804a-368209457435",
   "metadata": {},
   "outputs": [
    {
     "data": {
      "text/html": [
       "<div>\n",
       "<style scoped>\n",
       "    .dataframe tbody tr th:only-of-type {\n",
       "        vertical-align: middle;\n",
       "    }\n",
       "\n",
       "    .dataframe tbody tr th {\n",
       "        vertical-align: top;\n",
       "    }\n",
       "\n",
       "    .dataframe thead th {\n",
       "        text-align: right;\n",
       "    }\n",
       "</style>\n",
       "<table border=\"1\" class=\"dataframe\">\n",
       "  <thead>\n",
       "    <tr style=\"text-align: right;\">\n",
       "      <th></th>\n",
       "      <th>number</th>\n",
       "      <th>Link</th>\n",
       "      <th>Languages</th>\n",
       "      <th>Types</th>\n",
       "      <th>Crypto Currencies</th>\n",
       "      <th>Other Payments</th>\n",
       "      <th>Community</th>\n",
       "      <th>~AutoDice speed (~10 sec)</th>\n",
       "      <th>Global Rank</th>\n",
       "      <th>19-Mar</th>\n",
       "      <th>...</th>\n",
       "      <th>19-Jun</th>\n",
       "      <th>19-Jul</th>\n",
       "      <th>19-Aug</th>\n",
       "      <th>19-Sep</th>\n",
       "      <th>19-Oct</th>\n",
       "      <th>19-Nov</th>\n",
       "      <th>19-Dec</th>\n",
       "      <th>20-Jan</th>\n",
       "      <th>20-Feb</th>\n",
       "      <th>Month change,,,,,,,,,,,,,,,,,,,,,,,,,,,,,,,,,,,,,,,,,,,,,,,,,,,,,,,,,,,,,,,,,,,,,,,,,,,,,,,,,,,,,,,,,,,,,,,,,,,,,,,,,,</th>\n",
       "    </tr>\n",
       "  </thead>\n",
       "  <tbody>\n",
       "    <tr>\n",
       "      <th>0</th>\n",
       "      <td>1.0</td>\n",
       "      <td>bet365.com</td>\n",
       "      <td>EN, ES, DE. IT, PT, DK, SV, NO, CN, BG, GR, PL...</td>\n",
       "      <td>Casino, Live Casino, Sports, Other</td>\n",
       "      <td>NaN</td>\n",
       "      <td>VISA, Maestro, Mastercard, PayPal, PaySafeCard...</td>\n",
       "      <td>NaN</td>\n",
       "      <td>-</td>\n",
       "      <td>114.0</td>\n",
       "      <td>264 800 000</td>\n",
       "      <td>...</td>\n",
       "      <td>241 100 000</td>\n",
       "      <td>237 400 000</td>\n",
       "      <td>262 600 000</td>\n",
       "      <td>281 900 000</td>\n",
       "      <td>293 500 000</td>\n",
       "      <td>297 100 000</td>\n",
       "      <td>309 700 000</td>\n",
       "      <td>282 100 000</td>\n",
       "      <td>317 000 000</td>\n",
       "      <td>12,37%,,,,,,,,,,,,,,,,,,,,,,,,,,,,,,,,,,,,,,,,...</td>\n",
       "    </tr>\n",
       "    <tr>\n",
       "      <th>1</th>\n",
       "      <td>2.0</td>\n",
       "      <td>caliente.mx</td>\n",
       "      <td>ES</td>\n",
       "      <td>Casino, Live Casino, Sports, Other</td>\n",
       "      <td>NaN</td>\n",
       "      <td>VISA, Bank Transfer, PaySafeCard, Dinero Mail,...</td>\n",
       "      <td>NaN</td>\n",
       "      <td>-</td>\n",
       "      <td>408.0</td>\n",
       "      <td>113 400 000</td>\n",
       "      <td>...</td>\n",
       "      <td>101 000 000</td>\n",
       "      <td>103 000 000</td>\n",
       "      <td>71 870 000</td>\n",
       "      <td>69 200 000</td>\n",
       "      <td>74 220 000</td>\n",
       "      <td>74 300 000</td>\n",
       "      <td>123 500 000</td>\n",
       "      <td>168 500 000</td>\n",
       "      <td>115 800 000</td>\n",
       "      <td>-31,28%,,,,,,,,,,,,,,,,,,,,,,,,,,,,,,,,,,,,,,,...</td>\n",
       "    </tr>\n",
       "    <tr>\n",
       "      <th>2</th>\n",
       "      <td>3.0</td>\n",
       "      <td>verajohn.com</td>\n",
       "      <td>EN, JP, NO, FI, DE, ES, PT</td>\n",
       "      <td>Casino, Live Casino, Other</td>\n",
       "      <td>NaN</td>\n",
       "      <td>EcoPayz, Neteller, VISA, Mastercard, Maestro, ...</td>\n",
       "      <td>NaN</td>\n",
       "      <td>-</td>\n",
       "      <td>756.0</td>\n",
       "      <td>12 080 000</td>\n",
       "      <td>...</td>\n",
       "      <td>25 310 000</td>\n",
       "      <td>43 300 000</td>\n",
       "      <td>39 250 000</td>\n",
       "      <td>43 230 000</td>\n",
       "      <td>60 560 000</td>\n",
       "      <td>62 610 000</td>\n",
       "      <td>66 780 000</td>\n",
       "      <td>89 320 000</td>\n",
       "      <td>79 750 000</td>\n",
       "      <td>-10,71%,,,,,,,,,,,,,,,,,,,,,,,,,,,,,,,,,,,,,,,...</td>\n",
       "    </tr>\n",
       "    <tr>\n",
       "      <th>3</th>\n",
       "      <td>4.0</td>\n",
       "      <td>pch.com</td>\n",
       "      <td>EN</td>\n",
       "      <td>Casino, Other</td>\n",
       "      <td>NaN</td>\n",
       "      <td>VISA, Mastercard, Discover</td>\n",
       "      <td>NaN</td>\n",
       "      <td>-</td>\n",
       "      <td>195.0</td>\n",
       "      <td>89 740 000</td>\n",
       "      <td>...</td>\n",
       "      <td>81 470 000</td>\n",
       "      <td>85 360 000</td>\n",
       "      <td>77 020 000</td>\n",
       "      <td>74 160 000</td>\n",
       "      <td>74 920 000</td>\n",
       "      <td>69 370 000</td>\n",
       "      <td>73 360 000</td>\n",
       "      <td>84 210 000</td>\n",
       "      <td>71 970 000</td>\n",
       "      <td>-14,54%,,,,,,,,,,,,,,,,,,,,,,,,,,,,,,,,,,,,,,,...</td>\n",
       "    </tr>\n",
       "    <tr>\n",
       "      <th>4</th>\n",
       "      <td>5.0</td>\n",
       "      <td>freebitco.in</td>\n",
       "      <td>EN</td>\n",
       "      <td>Dice, Sport, Other</td>\n",
       "      <td>BTC</td>\n",
       "      <td>NaN</td>\n",
       "      <td>NaN</td>\n",
       "      <td>39</td>\n",
       "      <td>1959.0</td>\n",
       "      <td>51 060 000</td>\n",
       "      <td>...</td>\n",
       "      <td>57 080 000</td>\n",
       "      <td>57 490 000</td>\n",
       "      <td>58 910 000</td>\n",
       "      <td>55 890 000</td>\n",
       "      <td>58 930 000</td>\n",
       "      <td>54 140 000</td>\n",
       "      <td>59 970 000</td>\n",
       "      <td>63 200 000</td>\n",
       "      <td>55 160 000</td>\n",
       "      <td>-12,72%,,,,,,,,,,,,,,,,,,,,,,,,,,,,,,,,,,,,,,,...</td>\n",
       "    </tr>\n",
       "  </tbody>\n",
       "</table>\n",
       "<p>5 rows × 22 columns</p>\n",
       "</div>"
      ],
      "text/plain": [
       "   number          Link                                          Languages  \\\n",
       "0     1.0    bet365.com  EN, ES, DE. IT, PT, DK, SV, NO, CN, BG, GR, PL...   \n",
       "1     2.0   caliente.mx                                                 ES   \n",
       "2     3.0  verajohn.com                         EN, JP, NO, FI, DE, ES, PT   \n",
       "3     4.0       pch.com                                                 EN   \n",
       "4     5.0  freebitco.in                                                 EN   \n",
       "\n",
       "                                Types Crypto Currencies  \\\n",
       "0  Casino, Live Casino, Sports, Other               NaN   \n",
       "1  Casino, Live Casino, Sports, Other               NaN   \n",
       "2          Casino, Live Casino, Other               NaN   \n",
       "3                       Casino, Other               NaN   \n",
       "4                  Dice, Sport, Other               BTC   \n",
       "\n",
       "                                      Other Payments Community  \\\n",
       "0  VISA, Maestro, Mastercard, PayPal, PaySafeCard...       NaN   \n",
       "1  VISA, Bank Transfer, PaySafeCard, Dinero Mail,...       NaN   \n",
       "2  EcoPayz, Neteller, VISA, Mastercard, Maestro, ...       NaN   \n",
       "3                         VISA, Mastercard, Discover       NaN   \n",
       "4                                                NaN       NaN   \n",
       "\n",
       "  ~AutoDice speed (~10 sec)  Global Rank       19-Mar  ...       19-Jun  \\\n",
       "0                         -        114.0  264 800 000  ...  241 100 000   \n",
       "1                         -        408.0  113 400 000  ...  101 000 000   \n",
       "2                         -        756.0   12 080 000  ...   25 310 000   \n",
       "3                         -        195.0   89 740 000  ...   81 470 000   \n",
       "4                        39       1959.0   51 060 000  ...   57 080 000   \n",
       "\n",
       "        19-Jul       19-Aug       19-Sep       19-Oct       19-Nov  \\\n",
       "0  237 400 000  262 600 000  281 900 000  293 500 000  297 100 000   \n",
       "1  103 000 000   71 870 000   69 200 000   74 220 000   74 300 000   \n",
       "2   43 300 000   39 250 000   43 230 000   60 560 000   62 610 000   \n",
       "3   85 360 000   77 020 000   74 160 000   74 920 000   69 370 000   \n",
       "4   57 490 000   58 910 000   55 890 000   58 930 000   54 140 000   \n",
       "\n",
       "        19-Dec       20-Jan       20-Feb  \\\n",
       "0  309 700 000  282 100 000  317 000 000   \n",
       "1  123 500 000  168 500 000  115 800 000   \n",
       "2   66 780 000   89 320 000   79 750 000   \n",
       "3   73 360 000   84 210 000   71 970 000   \n",
       "4   59 970 000   63 200 000   55 160 000   \n",
       "\n",
       "  Month change,,,,,,,,,,,,,,,,,,,,,,,,,,,,,,,,,,,,,,,,,,,,,,,,,,,,,,,,,,,,,,,,,,,,,,,,,,,,,,,,,,,,,,,,,,,,,,,,,,,,,,,,,,  \n",
       "0  12,37%,,,,,,,,,,,,,,,,,,,,,,,,,,,,,,,,,,,,,,,,...                                                                      \n",
       "1  -31,28%,,,,,,,,,,,,,,,,,,,,,,,,,,,,,,,,,,,,,,,...                                                                      \n",
       "2  -10,71%,,,,,,,,,,,,,,,,,,,,,,,,,,,,,,,,,,,,,,,...                                                                      \n",
       "3  -14,54%,,,,,,,,,,,,,,,,,,,,,,,,,,,,,,,,,,,,,,,...                                                                      \n",
       "4  -12,72%,,,,,,,,,,,,,,,,,,,,,,,,,,,,,,,,,,,,,,,...                                                                      \n",
       "\n",
       "[5 rows x 22 columns]"
      ]
     },
     "execution_count": 47,
     "metadata": {},
     "output_type": "execute_result"
    }
   ],
   "source": [
    "df.head()"
   ]
  },
  {
   "cell_type": "code",
   "execution_count": 48,
   "id": "61bd4887-02cb-4455-84fb-744dcefe284e",
   "metadata": {},
   "outputs": [],
   "source": [
    "# To prepare the individual language variables from the langauges column\n",
    "df['EN'] = df.Languages.apply(lambda x: 1 if 'EN' in str(x) else 0)\n",
    "df['ES'] = df.Languages.apply(lambda x: 1 if 'ES' in str(x) else 0)\n",
    "df['FR'] = df.Languages.apply(lambda x: 1 if 'FR' in str(x) else 0)\n",
    "df['KR'] = df.Languages.apply(lambda x: 1 if 'KR' in str(x) else 0)\n",
    "df['PT'] = df.Languages.apply(lambda x: 1 if 'PT' in str(x) else 0)\n",
    "df['RU'] = df.Languages.apply(lambda x: 1 if 'RU' in str(x) else 0)\n"
   ]
  },
  {
   "cell_type": "code",
   "execution_count": 50,
   "id": "20d9facf-b14f-402e-a58f-8bfaa51d9a33",
   "metadata": {},
   "outputs": [],
   "source": [
    "#To prepare the individual gambling types that are served by each side\n",
    "df['Casino'] = df.Types.apply(lambda x: 1 if 'Casino' in str(x) else 0)\n",
    "df['Live Casino'] = df.Types.apply(lambda x: 1 if 'Live Casino' in str(x) else 0)\n",
    "df['Sports'] = df.Types.apply(lambda x: 1 if 'Sports' in str(x) else 0)\n",
    "df['E-Sports'] = df.Types.apply(lambda x: 1 if 'E-Sports' in str(x) else 0)\n",
    "df['Other'] = df.Types.apply(lambda x: 1 if 'Other' in str(x) else 0)"
   ]
  },
  {
   "cell_type": "code",
   "execution_count": 52,
   "id": "39f3bd99-36f6-4c6c-8697-1a274ef443a7",
   "metadata": {},
   "outputs": [],
   "source": [
    "#Counting amount of languages and type of gambling in substrings\n",
    "df['num_lang']=df.Languages.str.split().str.len()\n",
    "df['num_type']=df.Types.str.split().str.len()\n"
   ]
  },
  {
   "cell_type": "code",
   "execution_count": 53,
   "id": "06974b77-4497-4c7f-b6a6-b57105e31f04",
   "metadata": {},
   "outputs": [
    {
     "data": {
      "text/plain": [
       "<AxesSubplot:>"
      ]
     },
     "execution_count": 53,
     "metadata": {},
     "output_type": "execute_result"
    },
    {
     "data": {
      "image/png": "[encoded data removed]",
      "text/plain": [
       "<Figure size 432x288 with 1 Axes>"
      ]
     },
     "metadata": {
      "needs_background": "light"
     },
     "output_type": "display_data"
    }
   ],
   "source": [
    "#PLotting to see which language is most frequent\n",
    "df[['EN','ES','FR','KR','PT','RU']].mean().plot.bar()"
   ]
  },
  {
   "cell_type": "code",
   "execution_count": 32,
   "id": "9d2d59c3-5535-429a-88b2-c5fa93acc355",
   "metadata": {},
   "outputs": [
    {
     "name": "stdout",
     "output_type": "stream",
     "text": [
      "mean:  4.835820895522388\n",
      "std:  6.132857433407983\n"
     ]
    }
   ],
   "source": [
    "print('mean: ', df.num_lang.mean())\n",
    "print('std: ', df.num_lang.std())"
   ]
  },
  {
   "cell_type": "markdown",
   "id": "79ba6fb5-b293-4908-9a79-43e45abc15f3",
   "metadata": {},
   "source": [
    "The chart shows tht English is the most frequent langauge on the sites, followed by Russia, Spanish, and ecetera. the mean for the number of languages are 4.85(standard deviation = 6.13)"
   ]
  },
  {
   "cell_type": "code",
   "execution_count": 33,
   "id": "9fcdd5e7-9e0e-41a1-8434-80a31b354bb1",
   "metadata": {},
   "outputs": [
    {
     "data": {
      "text/plain": [
       "<AxesSubplot:>"
      ]
     },
     "execution_count": 33,
     "metadata": {},
     "output_type": "execute_result"
    },
    {
     "data": {
      "image/png": "[encoded data removed]",
      "text/plain": [
       "<Figure size 432x288 with 1 Axes>"
      ]
     },
     "metadata": {
      "needs_background": "light"
     },
     "output_type": "display_data"
    }
   ],
   "source": [
    "#Plotting to see which gambling type is most frequent\n",
    "df[['Casino','Live Casino','Sports','E-Sports','Other']].mean().plot.bar()"
   ]
  },
  {
   "cell_type": "code",
   "execution_count": 34,
   "id": "b58afadd-75e8-4e1e-91e4-fafa54bbd70c",
   "metadata": {},
   "outputs": [
    {
     "name": "stdout",
     "output_type": "stream",
     "text": [
      "mean:  2.8529411764705883\n",
      "std:  1.522811297687934\n"
     ]
    }
   ],
   "source": [
    "print('mean: ', df.num_type.mean())\n",
    "print('std: ', df.num_type.std())"
   ]
  },
  {
   "cell_type": "markdown",
   "id": "8ea1c37d-c966-47c6-946a-b57cfde83fe5",
   "metadata": {},
   "source": [
    "The graph reveals to us that Casino is the most frequent type of gamble followed by a tie with Live Casino and Others. The mean for the types of gambling is 2.85(tandard deviation = 1.52)"
   ]
  },
  {
   "cell_type": "markdown",
   "id": "7fcff147-4e44-4434-a631-f685cc712864",
   "metadata": {},
   "source": [
    "##To build logistic regression model to predict site rank with independent variables of number of gamle type, nmuber of language provided, and criptocurrency as payment.##\n"
   ]
  },
  {
   "cell_type": "code",
   "execution_count": 54,
   "id": "08bb9bfe-b25e-44b3-8124-8cacdf87bdc0",
   "metadata": {},
   "outputs": [],
   "source": [
    "#to prepare a binary dependant variable of the rank (1 if rank<1000, else 0)\n",
    "df['Global Rank']=df['Global Rank'].apply(lambda x: 1000000 if pd.isnull(x) else x )\n",
    "\n",
    "df['Rank2'] = df['Global Rank'].apply(lambda x: 1 if x<100000 else 0)"
   ]
  },
  {
   "cell_type": "code",
   "execution_count": 56,
   "id": "bf772659-e9dc-4525-99a1-f363eb179d18",
   "metadata": {},
   "outputs": [
    {
     "data": {
      "text/plain": [
       "0    206\n",
       "1     45\n",
       "Name: Rank2, dtype: int64"
      ]
     },
     "execution_count": 56,
     "metadata": {},
     "output_type": "execute_result"
    }
   ],
   "source": [
    "df.Rank2.value_counts()"
   ]
  },
  {
   "cell_type": "code",
   "execution_count": 57,
   "id": "e9b9ee1e-b384-4cbb-91b2-e9604512fe67",
   "metadata": {},
   "outputs": [],
   "source": [
    "#to prepare a binary variable for crypto payments (1 if crypto is accepted, else 0)\n",
    "df['Crypto2']=df['Crypto Currencies'].apply(lambda x: 0 if pd.isnull(x) else 1 )"
   ]
  },
  {
   "cell_type": "code",
   "execution_count": 58,
   "id": "775653a9-6010-4e99-bbbf-dc355681181d",
   "metadata": {},
   "outputs": [
    {
     "data": {
      "text/plain": [
       "0    145\n",
       "1    106\n",
       "Name: Crypto2, dtype: int64"
      ]
     },
     "execution_count": 58,
     "metadata": {},
     "output_type": "execute_result"
    }
   ],
   "source": [
    "df.Crypto2.value_counts()"
   ]
  },
  {
   "cell_type": "code",
   "execution_count": 62,
   "id": "52d14a84-7bec-4ca7-b588-b3c18f9baf09",
   "metadata": {},
   "outputs": [
    {
     "name": "stdout",
     "output_type": "stream",
     "text": [
      "(134, 3)\n",
      "(134,)\n"
     ]
    },
    {
     "name": "stderr",
     "output_type": "stream",
     "text": [
      "C:\\Users\\c4uj1\\AppData\\Local\\Temp\\ipykernel_20736\\744788967.py:2: SettingWithCopyWarning: \n",
      "A value is trying to be set on a copy of a slice from a DataFrame\n",
      "\n",
      "See the caveats in the documentation: https://pandas.pydata.org/pandas-docs/stable/user_guide/indexing.html#returning-a-view-versus-a-copy\n",
      "  data.dropna(inplace=True)\n"
     ]
    }
   ],
   "source": [
    "data=df[['Rank2','Crypto2','num_lang','num_type']]\n",
    "data.dropna(inplace=True)\n",
    "y_data = data['Rank2']\n",
    "x_data = data[['Crypto2','num_lang','num_type']]\n",
    "\n",
    "\n",
    "\n",
    "print(x_data.shape)\n",
    "print(y_data.shape)"
   ]
  },
  {
   "cell_type": "code",
   "execution_count": 71,
   "id": "dc68427d-d231-457e-8526-5adf08145841",
   "metadata": {},
   "outputs": [
    {
     "data": {
      "text/plain": [
       "LogisticRegression()"
      ]
     },
     "execution_count": 71,
     "metadata": {},
     "output_type": "execute_result"
    }
   ],
   "source": [
    "from sklearn.linear_model import LogisticRegression\n",
    "log = LogisticRegression()\n",
    "log.fit(x_data, y_data)\n"
   ]
  },
  {
   "cell_type": "code",
   "execution_count": 73,
   "id": "6cd8f49a-9dfd-4a9a-9e45-d998a645093f",
   "metadata": {},
   "outputs": [
    {
     "name": "stdout",
     "output_type": "stream",
     "text": [
      "[0.47073783] [[-1.04538535e-05 -2.49476817e+00  3.96178600e-02  1.67019547e-01]] 0.8283582089552238\n"
     ]
    }
   ],
   "source": [
    "#display regression coefficients and R-squared value of model\n",
    "print(log.intercept_, log.coef_, log.score(x_data,y_data))"
   ]
  },
  {
   "cell_type": "code",
   "execution_count": 75,
   "id": "7e6d02de-e38c-4a9e-b2dd-56ef1f4a1bee",
   "metadata": {},
   "outputs": [
    {
     "name": "stdout",
     "output_type": "stream",
     "text": [
      "                            OLS Regression Results                            \n",
      "==============================================================================\n",
      "Dep. Variable:                  Rank2   R-squared:                       0.364\n",
      "Model:                            OLS   Adj. R-squared:                  0.349\n",
      "Method:                 Least Squares   F-statistic:                     24.77\n",
      "Date:                Thu, 22 Dec 2022   Prob (F-statistic):           9.68e-13\n",
      "Time:                        12:58:22   Log-Likelihood:                -59.323\n",
      "No. Observations:                 134   AIC:                             126.6\n",
      "Df Residuals:                     130   BIC:                             138.2\n",
      "Df Model:                           3                                         \n",
      "Covariance Type:            nonrobust                                         \n",
      "==============================================================================\n",
      "                 coef    std err          t      P>|t|      [0.025      0.975]\n",
      "------------------------------------------------------------------------------\n",
      "const          0.7223      0.098      7.406      0.000       0.529       0.915\n",
      "Crypto2       -0.6438      0.079     -8.169      0.000      -0.800      -0.488\n",
      "num_lang       0.0080      0.006      1.394      0.166      -0.003       0.019\n",
      "num_type       0.0242      0.023      1.034      0.303      -0.022       0.070\n",
      "==============================================================================\n",
      "Omnibus:                       18.741   Durbin-Watson:                   0.846\n",
      "Prob(Omnibus):                  0.000   Jarque-Bera (JB):               21.941\n",
      "Skew:                           0.894   Prob(JB):                     1.72e-05\n",
      "Kurtosis:                       3.855   Cond. No.                         28.8\n",
      "==============================================================================\n",
      "\n",
      "Notes:\n",
      "[1] Standard Errors assume that the covariance matrix of the errors is correctly specified.\n"
     ]
    }
   ],
   "source": [
    "#Ordinary logistic regression\n",
    "\n",
    "\n",
    "import statsmodels.api as sm\n",
    "\n",
    "\n",
    "\n",
    "#add constant to predictor variables\n",
    "x_data = sm.add_constant(x_data)\n",
    "\n",
    "#fit linear regression model\n",
    "model = sm.OLS(y_data, x_data).fit()\n",
    "\n",
    "#view model summary\n",
    "print(model.summary())"
   ]
  },
  {
   "cell_type": "markdown",
   "id": "e842f62f-e23a-41f4-90b8-60033e6feb4d",
   "metadata": {},
   "source": [
    "The logistic regression shows that crypto currency and the global rank of sites were negatively associated with each other: high ranked sites are more likely to accept cryto as a form of payment. The # of languages and the # of gambling types were not associated with the global ranking."
   ]
  },
  {
   "cell_type": "code",
   "execution_count": null,
   "id": "e65cf87a-279d-492b-878d-604725294032",
   "metadata": {},
   "outputs": [],
   "source": []
  }
 ],
 "metadata": {
  "kernelspec": {
   "display_name": "Python 3 (ipykernel)",
   "language": "python",
   "name": "python3"
  },
  "language_info": {
   "codemirror_mode": {
    "name": "ipython",
    "version": 3
   },
   "file_extension": ".py",
   "mimetype": "text/x-python",
   "name": "python",
   "nbconvert_exporter": "python",
   "pygments_lexer": "ipython3",
   "version": "3.9.12"
  }
 },
 "nbformat": 4,
 "nbformat_minor": 5
}
